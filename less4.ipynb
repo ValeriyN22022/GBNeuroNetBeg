{
 "cells": [
  {
   "cell_type": "markdown",
   "metadata": {},
   "source": [
    "## Практическое задание\n",
    "\n",
    "<ol>\n",
    "    <li>Попробовать улучшить точность распознования образов cifar 10 сверточной нейронной сетью, рассмотренной на уроке. Приложить анализ с описанием того, что улучшает работу нейронной сети и что ухудшает.\n",
    "    </li>\n",
    "    <li>Описать также в анализе какие необоходимо внести изменения  в получившуюся у вас нейронную сеть если бы ей нужно было работать не с cifar10, а с MNIST, CIFAR100 и IMAGENET.\n",
    "    </li>\n",
    "</ol>"
   ]
  },
  {
   "cell_type": "code",
   "execution_count": 1,
   "metadata": {},
   "outputs": [
    {
     "name": "stdout",
     "output_type": "stream",
     "text": [
      "Epoch 1/10\n"
     ]
    },
    {
     "name": "stderr",
     "output_type": "stream",
     "text": [
      "C:\\Users\\AlenWolker\\AppData\\Local\\Temp\\ipykernel_28996\\2395678423.py:42: UserWarning: `Model.fit_generator` is deprecated and will be removed in a future version. Please use `Model.fit`, which supports generators.\n",
      "  model.fit_generator(train_generator,\n"
     ]
    },
    {
     "name": "stdout",
     "output_type": "stream",
     "text": [
      "1562/1562 [==============================] - 1590s 1s/step - loss: 74550.7422 - accuracy: 0.0000e+00 - val_loss: 73324.6016 - val_accuracy: 0.0000e+00\n",
      "Epoch 2/10\n",
      "1562/1562 [==============================] - 1756s 1s/step - loss: 140622.2500 - accuracy: 0.0000e+00 - val_loss: 175945.0781 - val_accuracy: 0.0000e+00\n",
      "Epoch 3/10\n",
      "1562/1562 [==============================] - 1551s 993ms/step - loss: 194375.9062 - accuracy: 0.0000e+00 - val_loss: 206717.9375 - val_accuracy: 0.0000e+00\n",
      "Epoch 4/10\n",
      "1562/1562 [==============================] - 1521s 974ms/step - loss: 242952.5469 - accuracy: 0.0000e+00 - val_loss: 291568.0625 - val_accuracy: 0.0000e+00\n",
      "Epoch 5/10\n",
      "1562/1562 [==============================] - 1534s 982ms/step - loss: 296169.2188 - accuracy: 0.0000e+00 - val_loss: 308826.5312 - val_accuracy: 0.0000e+00\n",
      "Epoch 6/10\n",
      "1562/1562 [==============================] - 1521s 973ms/step - loss: 351545.1250 - accuracy: 0.0000e+00 - val_loss: 308049.7812 - val_accuracy: 0.0000e+00\n",
      "Epoch 7/10\n",
      "1562/1562 [==============================] - 1519s 973ms/step - loss: 392824.6250 - accuracy: 0.0000e+00 - val_loss: 408771.8125 - val_accuracy: 0.0000e+00\n",
      "Epoch 8/10\n",
      "1562/1562 [==============================] - 1522s 975ms/step - loss: 434631.2812 - accuracy: 0.0000e+00 - val_loss: 550835.8750 - val_accuracy: 0.0000e+00\n",
      "Epoch 9/10\n",
      "1562/1562 [==============================] - 1520s 973ms/step - loss: 484091.3125 - accuracy: 0.0000e+00 - val_loss: 524930.3750 - val_accuracy: 0.0000e+00\n",
      "Epoch 10/10\n",
      "1562/1562 [==============================] - 1522s 974ms/step - loss: 535443.0000 - accuracy: 0.0000e+00 - val_loss: 404185.3438 - val_accuracy: 0.0000e+00\n"
     ]
    },
    {
     "name": "stderr",
     "output_type": "stream",
     "text": [
      "C:\\Users\\AlenWolker\\AppData\\Local\\Temp\\ipykernel_28996\\2395678423.py:49: UserWarning: `Model.evaluate_generator` is deprecated and will be removed in a future version. Please use `Model.evaluate`, which supports generators.\n",
      "  score = model.evaluate_generator(test_generator, steps=len(x_test) // batch_size)\n"
     ]
    },
    {
     "name": "stdout",
     "output_type": "stream",
     "text": [
      "Test loss: 403939.46875\n",
      "Test accuracy: 0.0\n"
     ]
    }
   ],
   "source": [
    "from __future__ import print_function\n",
    "import keras\n",
    "from keras.applications import ResNet50\n",
    "from keras.datasets import cifar10\n",
    "from keras.preprocessing.image import ImageDataGenerator\n",
    "from keras.models import Sequential\n",
    "from keras.layers import Dense, GlobalAveragePooling2D\n",
    "import os\n",
    "\n",
    "# Установка параметров нейросети\n",
    "batch_size = 32\n",
    "num_classes = 1000\n",
    "epochs = 10\n",
    "\n",
    "# Загрузка данных cifar10\n",
    "# (x_train, y_train), (x_test, y_test) = imagenet.load_data() cifar10\n",
    "\n",
    "(x_train, y_train), (x_test, y_test) = cifar10.load_data()\n",
    "\n",
    "# Создание объекта ImageDataGenerator для аугментации данных\n",
    "datagen = ImageDataGenerator(rescale=1.0/255.0)\n",
    "\n",
    "# Создание генераторов для обучающей и тестовой выборок\n",
    "train_generator = datagen.flow(x_train, y_train, batch_size=batch_size)\n",
    "test_generator = datagen.flow(x_test, y_test, batch_size=batch_size)\n",
    "\n",
    "# Создание предварительно обученной модели ResNet50\n",
    "base_model = ResNet50(weights='imagenet', include_top=False, input_shape=(224, 224, 3))\n",
    "\n",
    "# Создание модели для Featurization\n",
    "model = Sequential()\n",
    "model.add(base_model)\n",
    "model.add(GlobalAveragePooling2D())\n",
    "model.add(Dense(num_classes, activation='softmax'))\n",
    "\n",
    "# Компиляция модели\n",
    "model.compile(loss='categorical_crossentropy',\n",
    "              optimizer='adam',\n",
    "              metrics=['accuracy'])\n",
    "\n",
    "# Обучение модели\n",
    "model.fit_generator(train_generator,\n",
    "                    steps_per_epoch=len(x_train) // batch_size,\n",
    "                    epochs=epochs,\n",
    "                    validation_data=test_generator,\n",
    "                    validation_steps=len(x_test) // batch_size)\n",
    "\n",
    "# Оценка производительности модели на тестовых данных\n",
    "score = model.evaluate_generator(test_generator, steps=len(x_test) // batch_size)\n",
    "print('Test loss:', score[0])\n",
    "print('Test accuracy:', score[1])"
   ]
  },
  {
   "cell_type": "code",
   "execution_count": 2,
   "metadata": {},
   "outputs": [
    {
     "name": "stdout",
     "output_type": "stream",
     "text": [
      "Epoch 1/4\n"
     ]
    },
    {
     "name": "stderr",
     "output_type": "stream",
     "text": [
      "C:\\Users\\AlenWolker\\AppData\\Local\\Temp\\ipykernel_28996\\1142731242.py:15: UserWarning: `Model.fit_generator` is deprecated and will be removed in a future version. Please use `Model.fit`, which supports generators.\n",
      "  model.fit_generator(train_generator,\n"
     ]
    },
    {
     "name": "stdout",
     "output_type": "stream",
     "text": [
      "781/781 [==============================] - 715s 908ms/step - loss: 39444.8125 - accuracy: 0.0981 - val_loss: 44405.4062 - val_accuracy: 0.0000e+00\n",
      "Epoch 2/4\n",
      "781/781 [==============================] - 706s 904ms/step - loss: 27558.8438 - accuracy: 0.0995 - val_loss: 23206.7910 - val_accuracy: 0.0000e+00\n",
      "Epoch 3/4\n",
      "781/781 [==============================] - 707s 906ms/step - loss: 19452.6895 - accuracy: 0.1003 - val_loss: 31491.7695 - val_accuracy: 0.0000e+00\n",
      "Epoch 4/4\n",
      "781/781 [==============================] - 707s 905ms/step - loss: 13665.4922 - accuracy: 0.1039 - val_loss: 10698.7871 - val_accuracy: 0.0000e+00\n"
     ]
    },
    {
     "name": "stderr",
     "output_type": "stream",
     "text": [
      "C:\\Users\\AlenWolker\\AppData\\Local\\Temp\\ipykernel_28996\\1142731242.py:21: UserWarning: `Model.evaluate_generator` is deprecated and will be removed in a future version. Please use `Model.evaluate`, which supports generators.\n",
      "  score = model.evaluate_generator(test_generator, steps=len(x_test) // batch_size)\n"
     ]
    },
    {
     "name": "stdout",
     "output_type": "stream",
     "text": [
      "Test loss: 10763.53515625\n",
      "Test accuracy: 0.0\n"
     ]
    }
   ],
   "source": [
    "# Установка параметров нейросети\n",
    "batch_size = 64\n",
    "num_classes = 1000\n",
    "epochs = 4\n",
    "# Создание модели для Featurization\n",
    "model = Sequential()\n",
    "model.add(base_model)\n",
    "model.add(GlobalAveragePooling2D())\n",
    "model.add(Dense(num_classes, activation='softmax'))\n",
    "\n",
    "# Компиляция модели\n",
    "model.compile(loss='sparse_categorical_crossentropy',\n",
    "              optimizer='SGD',\n",
    "              metrics=['accuracy'])\n",
    "model.fit_generator(train_generator,\n",
    "                    steps_per_epoch=len(x_train) // batch_size,\n",
    "                    epochs=epochs,\n",
    "                    validation_data=test_generator,\n",
    "                    validation_steps=len(x_test) // batch_size)\n",
    "# Оценка производительности модели на тестовых данных\n",
    "score = model.evaluate_generator(test_generator, steps=len(x_test) // batch_size)\n",
    "print('Test loss:', score[0])\n",
    "print('Test accuracy:', score[1])"
   ]
  },
  {
   "cell_type": "code",
   "execution_count": 10,
   "metadata": {},
   "outputs": [],
   "source": [
    "from __future__ import print_function\n",
    "import keras\n",
    "from keras.datasets import cifar10\n",
    "from keras.preprocessing.image import ImageDataGenerator\n",
    "from keras.models import Sequential\n",
    "from keras.layers import Conv2D,MaxPool2D,Dense,Flatten,Dropout,Input, AveragePooling2D, Activation,Conv2D, MaxPooling2D, BatchNormalization,Concatenate\n",
    "from keras.layers import Conv2D, MaxPooling2D\n",
    "from keras.callbacks import EarlyStopping, TensorBoard\n",
    "from keras import regularizers, optimizers\n",
    "import os\n",
    "\n",
    "# Set the neural network parameters\n",
    "batch_size = 3\n",
    "num_classes = 10\n",
    "epochs = 3\n",
    "data_augmentation = True\n",
    "num_predictions = 20\n",
    "save_dir = os.path.join(os.getcwd(), 'saved_models')\n",
    "model_name = 'keras_mnist_trained_model.h5'\n",
    "\n"
   ]
  },
  {
   "cell_type": "code",
   "execution_count": 11,
   "metadata": {},
   "outputs": [
    {
     "name": "stdout",
     "output_type": "stream",
     "text": [
      "Shape of x_train is (50000, 32, 32, 3)\n",
      "Shape of x_test is (10000, 32, 32, 3)\n",
      "Shape of y_train is (50000, 1)\n",
      "Shape of y_test is (10000, 1)\n"
     ]
    }
   ],
   "source": [
    "(x_train, y_train), (x_test, y_test)=cifar10.load_data()\n",
    "\n",
    "print('Shape of x_train is {}'.format(x_train.shape))\n",
    "print('Shape of x_test is {}'.format(x_test.shape)) \n",
    "print('Shape of y_train is {}'.format(y_train.shape))\n",
    "print('Shape of y_test is {}'.format(y_test.shape))"
   ]
  },
  {
   "cell_type": "code",
   "execution_count": 12,
   "metadata": {},
   "outputs": [],
   "source": [
    "from tensorflow.keras.utils import to_categorical\n",
    "\n",
    "# Normalizing\n",
    "x_train=x_train/255\n",
    "x_test=x_test/255\n",
    "\n",
    "#One hot encoding\n",
    "y_train_cat=to_categorical(y_train,10)\n",
    "y_test_cat=to_categorical(y_test,10)"
   ]
  },
  {
   "cell_type": "markdown",
   "metadata": {},
   "source": [
    "### Base Model\n",
    "два простых сверточных слоя с 32 фильтрами каждый, входная форма 32323, и активация будет повторена"
   ]
  },
  {
   "cell_type": "code",
   "execution_count": 13,
   "metadata": {},
   "outputs": [],
   "source": [
    "model1=Sequential()\n",
    "model1.add(Conv2D(filters=32,kernel_size=(4,4),input_shape=(32,32,3),activation='relu'))\n",
    "model1.add(MaxPool2D(pool_size=(2,2)))\n",
    "model1.add(Conv2D(filters=32,kernel_size=(4,4),input_shape=(32,32,3),activation='relu'))\n",
    "model1.add(MaxPool2D(pool_size=(2,2)))\n",
    "model1.add(Flatten())\n",
    "model1.add(Dense(256,activation='relu'))\n",
    "model1.add(Dense(10,activation='softmax'))\n",
    "model1.compile(loss='categorical_crossentropy',optimizer='adam',metrics=['accuracy'])"
   ]
  },
  {
   "cell_type": "code",
   "execution_count": 14,
   "metadata": {},
   "outputs": [
    {
     "name": "stdout",
     "output_type": "stream",
     "text": [
      "Model: \"sequential_4\"\n",
      "_________________________________________________________________\n",
      " Layer (type)                Output Shape              Param #   \n",
      "=================================================================\n",
      " conv2d_4 (Conv2D)           (None, 29, 29, 32)        1568      \n",
      "                                                                 \n",
      " max_pooling2d_3 (MaxPoolin  (None, 14, 14, 32)        0         \n",
      " g2D)                                                            \n",
      "                                                                 \n",
      " conv2d_5 (Conv2D)           (None, 11, 11, 32)        16416     \n",
      "                                                                 \n",
      " max_pooling2d_4 (MaxPoolin  (None, 5, 5, 32)          0         \n",
      " g2D)                                                            \n",
      "                                                                 \n",
      " flatten_1 (Flatten)         (None, 800)               0         \n",
      "                                                                 \n",
      " dense_4 (Dense)             (None, 256)               205056    \n",
      "                                                                 \n",
      " dense_5 (Dense)             (None, 10)                2570      \n",
      "                                                                 \n",
      "=================================================================\n",
      "Total params: 225610 (881.29 KB)\n",
      "Trainable params: 225610 (881.29 KB)\n",
      "Non-trainable params: 0 (0.00 Byte)\n",
      "_________________________________________________________________\n"
     ]
    }
   ],
   "source": [
    "model1.summary()"
   ]
  },
  {
   "cell_type": "code",
   "execution_count": 15,
   "metadata": {},
   "outputs": [
    {
     "name": "stdout",
     "output_type": "stream",
     "text": [
      "Epoch 1/20\n",
      "1563/1563 [==============================] - 23s 14ms/step - loss: 1.4941 - accuracy: 0.4606 - val_loss: 1.2667 - val_accuracy: 0.5481\n",
      "Epoch 2/20\n",
      "1563/1563 [==============================] - 20s 13ms/step - loss: 1.1686 - accuracy: 0.5886 - val_loss: 1.1417 - val_accuracy: 0.6001\n",
      "Epoch 3/20\n",
      "1563/1563 [==============================] - 20s 13ms/step - loss: 1.0198 - accuracy: 0.6425 - val_loss: 1.0516 - val_accuracy: 0.6304\n",
      "Epoch 4/20\n",
      "1563/1563 [==============================] - 20s 13ms/step - loss: 0.9221 - accuracy: 0.6794 - val_loss: 1.0501 - val_accuracy: 0.6393\n",
      "Epoch 5/20\n",
      "1563/1563 [==============================] - 20s 13ms/step - loss: 0.8416 - accuracy: 0.7079 - val_loss: 1.0111 - val_accuracy: 0.6530\n",
      "Epoch 6/20\n",
      "1563/1563 [==============================] - 20s 13ms/step - loss: 0.7765 - accuracy: 0.7287 - val_loss: 1.0006 - val_accuracy: 0.6613\n",
      "Epoch 7/20\n",
      "1563/1563 [==============================] - 20s 13ms/step - loss: 0.7081 - accuracy: 0.7519 - val_loss: 0.9493 - val_accuracy: 0.6769\n",
      "Epoch 8/20\n",
      "1563/1563 [==============================] - 24s 15ms/step - loss: 0.6460 - accuracy: 0.7738 - val_loss: 1.0460 - val_accuracy: 0.6605\n",
      "Epoch 9/20\n",
      "1563/1563 [==============================] - 23s 14ms/step - loss: 0.5795 - accuracy: 0.7964 - val_loss: 1.0142 - val_accuracy: 0.6811\n",
      "Epoch 10/20\n",
      "1563/1563 [==============================] - 20s 13ms/step - loss: 0.5299 - accuracy: 0.8154 - val_loss: 1.0191 - val_accuracy: 0.6878\n",
      "Epoch 11/20\n",
      "1563/1563 [==============================] - 22s 14ms/step - loss: 0.4778 - accuracy: 0.8317 - val_loss: 1.0845 - val_accuracy: 0.6791\n",
      "Epoch 12/20\n",
      "1563/1563 [==============================] - 22s 14ms/step - loss: 0.4296 - accuracy: 0.8497 - val_loss: 1.1748 - val_accuracy: 0.6739\n",
      "Epoch 13/20\n",
      "1563/1563 [==============================] - 20s 13ms/step - loss: 0.3804 - accuracy: 0.8664 - val_loss: 1.2241 - val_accuracy: 0.6709\n",
      "Epoch 14/20\n",
      "1563/1563 [==============================] - 21s 14ms/step - loss: 0.3465 - accuracy: 0.8782 - val_loss: 1.3237 - val_accuracy: 0.6682\n",
      "Epoch 15/20\n",
      "1563/1563 [==============================] - 20s 13ms/step - loss: 0.3110 - accuracy: 0.8894 - val_loss: 1.3420 - val_accuracy: 0.6850\n",
      "Epoch 16/20\n",
      "1563/1563 [==============================] - 20s 13ms/step - loss: 0.2816 - accuracy: 0.8997 - val_loss: 1.4885 - val_accuracy: 0.6674\n",
      "Epoch 17/20\n",
      "1563/1563 [==============================] - 21s 13ms/step - loss: 0.2514 - accuracy: 0.9094 - val_loss: 1.5786 - val_accuracy: 0.6713\n",
      "Epoch 18/20\n",
      "1563/1563 [==============================] - 18s 12ms/step - loss: 0.2257 - accuracy: 0.9181 - val_loss: 1.7572 - val_accuracy: 0.6578\n",
      "Epoch 19/20\n",
      "1563/1563 [==============================] - 18s 12ms/step - loss: 0.1987 - accuracy: 0.9289 - val_loss: 1.8109 - val_accuracy: 0.6596\n",
      "Epoch 20/20\n",
      "1563/1563 [==============================] - 18s 12ms/step - loss: 0.1923 - accuracy: 0.9317 - val_loss: 1.8613 - val_accuracy: 0.6723\n"
     ]
    }
   ],
   "source": [
    "history1=model1.fit(x_train,y_train_cat,epochs=20,validation_data=(x_test,y_test_cat))"
   ]
  },
  {
   "cell_type": "code",
   "execution_count": 16,
   "metadata": {},
   "outputs": [
    {
     "name": "stdout",
     "output_type": "stream",
     "text": [
      "313/313 [==============================] - 1s 3ms/step - loss: 1.8613 - accuracy: 0.6723\n",
      "Test Accuracy: 0.6722999811172485\n"
     ]
    }
   ],
   "source": [
    "evaluation = model1.evaluate(x_test, y_test_cat)\n",
    "print('Test Accuracy: {}'.format(evaluation[1]))"
   ]
  },
  {
   "cell_type": "code",
   "execution_count": 18,
   "metadata": {},
   "outputs": [
    {
     "data": {
      "text/plain": [
       "<Axes: >"
      ]
     },
     "execution_count": 18,
     "metadata": {},
     "output_type": "execute_result"
    },
    {
     "data": {
      "image/png": "[encoded data removed]",
      "text/plain": [
       "<Figure size 640x480 with 1 Axes>"
      ]
     },
     "metadata": {},
     "output_type": "display_data"
    }
   ],
   "source": [
    "import pandas as pd\n",
    "pd.DataFrame(history1.history).plot()"
   ]
  },
  {
   "cell_type": "markdown",
   "metadata": {},
   "source": [
    "Исходя из анализа, можно сделать вывод о сложности выработки четких правил установки соотношения параметров для достижения наилучших показателей при использовании нейросетей. Также, можно сказать, что сеть ResNet50, по всей видимости, не очень подходят для обработки датасета Cifar10 (результат можно увидеть в первых вариациях нейросети). Правильная установка слоев очень важна.\n",
    "Исходя из результатов базовой модели мы получили точность обучения 88% а точность тестирования 65% что намного лучше того что было в первый вариантах. Потери при проверке значительно увеличиваются, что означает, что наша модель переобучается. Чтобы уменьшить переобучение мы можем добавить больше данных, упростить модель или сделать регуляризацию. В нашем случает лучше всего подходит регуляризация. Для cifar100 и Imagenet нужно будет усложнять модель и добавлять болльше данных так как они более обьемные и неоднородные. Для mnist лучше использовать рекуррентные нейронные сети и работать в режиме ЧБ.\n"
   ]
  }
 ],
 "metadata": {
  "kernelspec": {
   "display_name": "Python 3",
   "language": "python",
   "name": "python3"
  },
  "language_info": {
   "codemirror_mode": {
    "name": "ipython",
    "version": 3
   },
   "file_extension": ".py",
   "mimetype": "text/x-python",
   "name": "python",
   "nbconvert_exporter": "python",
   "pygments_lexer": "ipython3",
   "version": "3.9.13"
  }
 },
 "nbformat": 4,
 "nbformat_minor": 2
}
